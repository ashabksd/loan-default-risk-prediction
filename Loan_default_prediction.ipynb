{
 "cells": [
  {
   "cell_type": "code",
   "execution_count": 2,
   "id": "91515fdf-209a-42de-8a7e-dffc60156dde",
   "metadata": {},
   "outputs": [
    {
     "name": "stdout",
     "output_type": "stream",
     "text": [
      "Accuracy: 0.8229166666666666\n",
      "Confusion Matrix:\n",
      " [[11 17]\n",
      " [ 0 68]]\n",
      "Classification Report:\n",
      "               precision    recall  f1-score   support\n",
      "\n",
      "           0       1.00      0.39      0.56        28\n",
      "           1       0.80      1.00      0.89        68\n",
      "\n",
      "    accuracy                           0.82        96\n",
      "   macro avg       0.90      0.70      0.73        96\n",
      "weighted avg       0.86      0.82      0.79        96\n",
      "\n"
     ]
    },
    {
     "data": {
      "image/png": "[encoded data removed]",
      "text/plain": [
       "<Figure size 640x480 with 2 Axes>"
      ]
     },
     "metadata": {},
     "output_type": "display_data"
    }
   ],
   "source": [
    "import pandas as pd\n",
    "import seaborn as sns\n",
    "import matplotlib.pyplot as plt\n",
    "from sklearn.model_selection import train_test_split\n",
    "from sklearn.linear_model import LogisticRegression\n",
    "from sklearn.metrics import accuracy_score, classification_report, confusion_matrix\n",
    "\n",
    "# Load dataset\n",
    "df = pd.read_csv(r\"C:\\Users\\ASHA\\Downloads\\archive (34)\\loan.csv\")  # Replace with actual dataset path\n",
    "\n",
    "# Simple preprocessing\n",
    "df.dropna(inplace=True)\n",
    "\n",
    "# Encode categorical variables (if any)\n",
    "df['Gender'] = df['Gender'].map({'Male': 1, 'Female': 0})\n",
    "df['Married'] = df['Married'].map({'Yes': 1, 'No': 0})\n",
    "# Continue encoding as needed\n",
    "\n",
    "# Feature selection\n",
    "X = df[['Credit_History', 'ApplicantIncome', 'LoanAmount']]\n",
    "y = df['Loan_Status'].map({'Y': 1, 'N': 0})\n",
    "\n",
    "# Train-test split\n",
    "X_train, X_test, y_train, y_test = train_test_split(X, y, test_size=0.2, random_state=42)\n",
    "\n",
    "# Logistic Regression model\n",
    "model = LogisticRegression()\n",
    "model.fit(X_train, y_train)\n",
    "\n",
    "# Predictions\n",
    "y_pred = model.predict(X_test)\n",
    "\n",
    "# Evaluation\n",
    "print(\"Accuracy:\", accuracy_score(y_test, y_pred))\n",
    "print(\"Confusion Matrix:\\n\", confusion_matrix(y_test, y_pred))\n",
    "print(\"Classification Report:\\n\", classification_report(y_test, y_pred))\n",
    "\n",
    "# Visualization\n",
    "sns.heatmap(confusion_matrix(y_test, y_pred), annot=True, fmt='d')\n",
    "plt.title('Confusion Matrix')\n",
    "plt.show()\n"
   ]
  },
  {
   "cell_type": "code",
   "execution_count": null,
   "id": "d798c669-174a-4d38-af17-84d4cb922a90",
   "metadata": {},
   "outputs": [],
   "source": [
    "import pandas as pd\n",
    "import seaborn as sns\n",
    "import matplotlib.pyplot as plt\n",
    "from sklearn.model_selection import train_test_split\n",
    "from sklearn.linear_model import LogisticRegression\n",
    "from sklearn.metrics import accuracy_score, classification_report, confusion_matrix"
   ]
  },
  {
   "cell_type": "code",
   "execution_count": null,
   "id": "0a7dc28c-b27d-4d8f-85eb-8a052d824999",
   "metadata": {},
   "outputs": [],
   "source": [
    "# Load dataset\n",
    "df = pd.read_csv(r\"C:\\Users\\ASHA\\Downloads\\archive (34)\\loan.csv\")  # Replace with actual dataset path\n"
   ]
  },
  {
   "cell_type": "code",
   "execution_count": null,
   "id": "002aca7f-3b9a-479e-9038-0fd5772ae86b",
   "metadata": {},
   "outputs": [],
   "source": [
    "# Simple preprocessing\n",
    "df.dropna(inplace=True)\n",
    "\n",
    "# Encode categorical variables (if any)\n",
    "df['Gender'] = df['Gender'].map({'Male': 1, 'Female': 0})\n",
    "df['Married'] = df['Married'].map({'Yes': 1, 'No': 0})"
   ]
  },
  {
   "cell_type": "code",
   "execution_count": null,
   "id": "6c11970e-1b58-4d48-9aa7-d7f2f12a2efe",
   "metadata": {},
   "outputs": [],
   "source": [
    "# Feature selection\n",
    "X = df[['Credit_History', 'ApplicantIncome', 'LoanAmount']]\n",
    "y = df['Loan_Status'].map({'Y': 1, 'N': 0})\n"
   ]
  }
 ],
 "metadata": {
  "kernelspec": {
   "display_name": "Python 3 (ipykernel)",
   "language": "python",
   "name": "python3"
  },
  "language_info": {
   "codemirror_mode": {
    "name": "ipython",
    "version": 3
   },
   "file_extension": ".py",
   "mimetype": "text/x-python",
   "name": "python",
   "nbconvert_exporter": "python",
   "pygments_lexer": "ipython3",
   "version": "3.12.4"
  }
 },
 "nbformat": 4,
 "nbformat_minor": 5
}
